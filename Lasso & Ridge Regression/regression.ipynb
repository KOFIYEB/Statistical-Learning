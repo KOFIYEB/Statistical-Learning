{
  "nbformat": 4,
  "nbformat_minor": 0,
  "metadata": {
    "colab": {
      "provenance": []
    },
    "kernelspec": {
      "name": "ir",
      "display_name": "R"
    },
    "language_info": {
      "name": "R"
    }
  },
  "cells": [
    {
      "cell_type": "code",
      "source": [
        "install.packages(\"glmnet\")"
      ],
      "metadata": {
        "colab": {
          "base_uri": "https://localhost:8080/"
        },
        "id": "kf6VMuis4ORh",
        "outputId": "41e938ea-d95c-40de-efbe-27895ce25be9"
      },
      "execution_count": 9,
      "outputs": [
        {
          "output_type": "stream",
          "name": "stderr",
          "text": [
            "Installing package into ‘/usr/local/lib/R/site-library’\n",
            "(as ‘lib’ is unspecified)\n",
            "\n",
            "Warning message in install.packages(\"glmnet\"):\n",
            "“installation of package ‘glmnet’ had non-zero exit status”\n"
          ]
        }
      ]
    },
    {
      "cell_type": "code",
      "execution_count": 10,
      "metadata": {
        "colab": {
          "base_uri": "https://localhost:8080/"
        },
        "id": "716SVmyu1-jC",
        "outputId": "1f894ece-902b-4f2e-8bfa-76f2bc06c204"
      },
      "outputs": [
        {
          "output_type": "stream",
          "name": "stderr",
          "text": [
            "Loading required package: Matrix\n",
            "\n",
            "Loaded glmnet 4.1-7\n",
            "\n"
          ]
        }
      ],
      "source": [
        "#loading library\n",
        "library(glmnet)"
      ]
    },
    {
      "cell_type": "code",
      "source": [
        "#loading data\n",
        "data = read.csv(\"winequality-red.csv\", sep = \",\", header = TRUE)\n",
        "head(data,n = 10)"
      ],
      "metadata": {
        "colab": {
          "base_uri": "https://localhost:8080/",
          "height": 432
        },
        "id": "H7Cybe7A2MzU",
        "outputId": "be7d0c94-bfc8-4a13-fef5-85c6b51f590a"
      },
      "execution_count": 11,
      "outputs": [
        {
          "output_type": "display_data",
          "data": {
            "text/html": [
              "<table class=\"dataframe\">\n",
              "<caption>A data.frame: 10 × 12</caption>\n",
              "<thead>\n",
              "\t<tr><th></th><th scope=col>fixed.acidity</th><th scope=col>volatile.acidity</th><th scope=col>citric.acid</th><th scope=col>residual.sugar</th><th scope=col>chlorides</th><th scope=col>free.sulfur.dioxide</th><th scope=col>total.sulfur.dioxide</th><th scope=col>density</th><th scope=col>pH</th><th scope=col>sulphates</th><th scope=col>alcohol</th><th scope=col>quality</th></tr>\n",
              "\t<tr><th></th><th scope=col>&lt;dbl&gt;</th><th scope=col>&lt;dbl&gt;</th><th scope=col>&lt;dbl&gt;</th><th scope=col>&lt;dbl&gt;</th><th scope=col>&lt;dbl&gt;</th><th scope=col>&lt;dbl&gt;</th><th scope=col>&lt;dbl&gt;</th><th scope=col>&lt;dbl&gt;</th><th scope=col>&lt;dbl&gt;</th><th scope=col>&lt;dbl&gt;</th><th scope=col>&lt;dbl&gt;</th><th scope=col>&lt;int&gt;</th></tr>\n",
              "</thead>\n",
              "<tbody>\n",
              "\t<tr><th scope=row>1</th><td> 7.4</td><td>0.70</td><td>0.00</td><td>1.9</td><td>0.076</td><td>11</td><td> 34</td><td>0.9978</td><td>3.51</td><td>0.56</td><td> 9.4</td><td>5</td></tr>\n",
              "\t<tr><th scope=row>2</th><td> 7.8</td><td>0.88</td><td>0.00</td><td>2.6</td><td>0.098</td><td>25</td><td> 67</td><td>0.9968</td><td>3.20</td><td>0.68</td><td> 9.8</td><td>5</td></tr>\n",
              "\t<tr><th scope=row>3</th><td> 7.8</td><td>0.76</td><td>0.04</td><td>2.3</td><td>0.092</td><td>15</td><td> 54</td><td>0.9970</td><td>3.26</td><td>0.65</td><td> 9.8</td><td>5</td></tr>\n",
              "\t<tr><th scope=row>4</th><td>11.2</td><td>0.28</td><td>0.56</td><td>1.9</td><td>0.075</td><td>17</td><td> 60</td><td>0.9980</td><td>3.16</td><td>0.58</td><td> 9.8</td><td>6</td></tr>\n",
              "\t<tr><th scope=row>5</th><td> 7.4</td><td>0.70</td><td>0.00</td><td>1.9</td><td>0.076</td><td>11</td><td> 34</td><td>0.9978</td><td>3.51</td><td>0.56</td><td> 9.4</td><td>5</td></tr>\n",
              "\t<tr><th scope=row>6</th><td> 7.4</td><td>0.66</td><td>0.00</td><td>1.8</td><td>0.075</td><td>13</td><td> 40</td><td>0.9978</td><td>3.51</td><td>0.56</td><td> 9.4</td><td>5</td></tr>\n",
              "\t<tr><th scope=row>7</th><td> 7.9</td><td>0.60</td><td>0.06</td><td>1.6</td><td>0.069</td><td>15</td><td> 59</td><td>0.9964</td><td>3.30</td><td>0.46</td><td> 9.4</td><td>5</td></tr>\n",
              "\t<tr><th scope=row>8</th><td> 7.3</td><td>0.65</td><td>0.00</td><td>1.2</td><td>0.065</td><td>15</td><td> 21</td><td>0.9946</td><td>3.39</td><td>0.47</td><td>10.0</td><td>7</td></tr>\n",
              "\t<tr><th scope=row>9</th><td> 7.8</td><td>0.58</td><td>0.02</td><td>2.0</td><td>0.073</td><td> 9</td><td> 18</td><td>0.9968</td><td>3.36</td><td>0.57</td><td> 9.5</td><td>7</td></tr>\n",
              "\t<tr><th scope=row>10</th><td> 7.5</td><td>0.50</td><td>0.36</td><td>6.1</td><td>0.071</td><td>17</td><td>102</td><td>0.9978</td><td>3.35</td><td>0.80</td><td>10.5</td><td>5</td></tr>\n",
              "</tbody>\n",
              "</table>\n"
            ],
            "text/markdown": "\nA data.frame: 10 × 12\n\n| <!--/--> | fixed.acidity &lt;dbl&gt; | volatile.acidity &lt;dbl&gt; | citric.acid &lt;dbl&gt; | residual.sugar &lt;dbl&gt; | chlorides &lt;dbl&gt; | free.sulfur.dioxide &lt;dbl&gt; | total.sulfur.dioxide &lt;dbl&gt; | density &lt;dbl&gt; | pH &lt;dbl&gt; | sulphates &lt;dbl&gt; | alcohol &lt;dbl&gt; | quality &lt;int&gt; |\n|---|---|---|---|---|---|---|---|---|---|---|---|---|\n| 1 |  7.4 | 0.70 | 0.00 | 1.9 | 0.076 | 11 |  34 | 0.9978 | 3.51 | 0.56 |  9.4 | 5 |\n| 2 |  7.8 | 0.88 | 0.00 | 2.6 | 0.098 | 25 |  67 | 0.9968 | 3.20 | 0.68 |  9.8 | 5 |\n| 3 |  7.8 | 0.76 | 0.04 | 2.3 | 0.092 | 15 |  54 | 0.9970 | 3.26 | 0.65 |  9.8 | 5 |\n| 4 | 11.2 | 0.28 | 0.56 | 1.9 | 0.075 | 17 |  60 | 0.9980 | 3.16 | 0.58 |  9.8 | 6 |\n| 5 |  7.4 | 0.70 | 0.00 | 1.9 | 0.076 | 11 |  34 | 0.9978 | 3.51 | 0.56 |  9.4 | 5 |\n| 6 |  7.4 | 0.66 | 0.00 | 1.8 | 0.075 | 13 |  40 | 0.9978 | 3.51 | 0.56 |  9.4 | 5 |\n| 7 |  7.9 | 0.60 | 0.06 | 1.6 | 0.069 | 15 |  59 | 0.9964 | 3.30 | 0.46 |  9.4 | 5 |\n| 8 |  7.3 | 0.65 | 0.00 | 1.2 | 0.065 | 15 |  21 | 0.9946 | 3.39 | 0.47 | 10.0 | 7 |\n| 9 |  7.8 | 0.58 | 0.02 | 2.0 | 0.073 |  9 |  18 | 0.9968 | 3.36 | 0.57 |  9.5 | 7 |\n| 10 |  7.5 | 0.50 | 0.36 | 6.1 | 0.071 | 17 | 102 | 0.9978 | 3.35 | 0.80 | 10.5 | 5 |\n\n",
            "text/latex": "A data.frame: 10 × 12\n\\begin{tabular}{r|llllllllllll}\n  & fixed.acidity & volatile.acidity & citric.acid & residual.sugar & chlorides & free.sulfur.dioxide & total.sulfur.dioxide & density & pH & sulphates & alcohol & quality\\\\\n  & <dbl> & <dbl> & <dbl> & <dbl> & <dbl> & <dbl> & <dbl> & <dbl> & <dbl> & <dbl> & <dbl> & <int>\\\\\n\\hline\n\t1 &  7.4 & 0.70 & 0.00 & 1.9 & 0.076 & 11 &  34 & 0.9978 & 3.51 & 0.56 &  9.4 & 5\\\\\n\t2 &  7.8 & 0.88 & 0.00 & 2.6 & 0.098 & 25 &  67 & 0.9968 & 3.20 & 0.68 &  9.8 & 5\\\\\n\t3 &  7.8 & 0.76 & 0.04 & 2.3 & 0.092 & 15 &  54 & 0.9970 & 3.26 & 0.65 &  9.8 & 5\\\\\n\t4 & 11.2 & 0.28 & 0.56 & 1.9 & 0.075 & 17 &  60 & 0.9980 & 3.16 & 0.58 &  9.8 & 6\\\\\n\t5 &  7.4 & 0.70 & 0.00 & 1.9 & 0.076 & 11 &  34 & 0.9978 & 3.51 & 0.56 &  9.4 & 5\\\\\n\t6 &  7.4 & 0.66 & 0.00 & 1.8 & 0.075 & 13 &  40 & 0.9978 & 3.51 & 0.56 &  9.4 & 5\\\\\n\t7 &  7.9 & 0.60 & 0.06 & 1.6 & 0.069 & 15 &  59 & 0.9964 & 3.30 & 0.46 &  9.4 & 5\\\\\n\t8 &  7.3 & 0.65 & 0.00 & 1.2 & 0.065 & 15 &  21 & 0.9946 & 3.39 & 0.47 & 10.0 & 7\\\\\n\t9 &  7.8 & 0.58 & 0.02 & 2.0 & 0.073 &  9 &  18 & 0.9968 & 3.36 & 0.57 &  9.5 & 7\\\\\n\t10 &  7.5 & 0.50 & 0.36 & 6.1 & 0.071 & 17 & 102 & 0.9978 & 3.35 & 0.80 & 10.5 & 5\\\\\n\\end{tabular}\n",
            "text/plain": [
              "   fixed.acidity volatile.acidity citric.acid residual.sugar chlorides\n",
              "1   7.4          0.70             0.00        1.9            0.076    \n",
              "2   7.8          0.88             0.00        2.6            0.098    \n",
              "3   7.8          0.76             0.04        2.3            0.092    \n",
              "4  11.2          0.28             0.56        1.9            0.075    \n",
              "5   7.4          0.70             0.00        1.9            0.076    \n",
              "6   7.4          0.66             0.00        1.8            0.075    \n",
              "7   7.9          0.60             0.06        1.6            0.069    \n",
              "8   7.3          0.65             0.00        1.2            0.065    \n",
              "9   7.8          0.58             0.02        2.0            0.073    \n",
              "10  7.5          0.50             0.36        6.1            0.071    \n",
              "   free.sulfur.dioxide total.sulfur.dioxide density pH   sulphates alcohol\n",
              "1  11                   34                  0.9978  3.51 0.56       9.4   \n",
              "2  25                   67                  0.9968  3.20 0.68       9.8   \n",
              "3  15                   54                  0.9970  3.26 0.65       9.8   \n",
              "4  17                   60                  0.9980  3.16 0.58       9.8   \n",
              "5  11                   34                  0.9978  3.51 0.56       9.4   \n",
              "6  13                   40                  0.9978  3.51 0.56       9.4   \n",
              "7  15                   59                  0.9964  3.30 0.46       9.4   \n",
              "8  15                   21                  0.9946  3.39 0.47      10.0   \n",
              "9   9                   18                  0.9968  3.36 0.57       9.5   \n",
              "10 17                  102                  0.9978  3.35 0.80      10.5   \n",
              "   quality\n",
              "1  5      \n",
              "2  5      \n",
              "3  5      \n",
              "4  6      \n",
              "5  5      \n",
              "6  5      \n",
              "7  5      \n",
              "8  7      \n",
              "9  7      \n",
              "10 5      "
            ]
          },
          "metadata": {}
        }
      ]
    },
    {
      "cell_type": "code",
      "source": [
        "#Cleaning data\n",
        "sum(is.na(data))\n"
      ],
      "metadata": {
        "colab": {
          "base_uri": "https://localhost:8080/",
          "height": 34
        },
        "id": "9VyjEVfe2Rc5",
        "outputId": "e4f86f2f-459a-4f8d-86a1-ecea2d70a02c"
      },
      "execution_count": 12,
      "outputs": [
        {
          "output_type": "display_data",
          "data": {
            "text/html": [
              "0"
            ],
            "text/markdown": "0",
            "text/latex": "0",
            "text/plain": [
              "[1] 0"
            ]
          },
          "metadata": {}
        }
      ]
    },
    {
      "cell_type": "code",
      "source": [
        "# Generating the x matrix, y vector and relative vectors\n",
        "x <- model.matrix(quality ~ ., data)[, -1]\n",
        "y <- data$quality\n",
        "names(data)"
      ],
      "metadata": {
        "colab": {
          "base_uri": "https://localhost:8080/",
          "height": 34
        },
        "id": "wvyqaeUK2U6h",
        "outputId": "2389067f-000f-423b-a2f8-fe84ea0adc8e"
      },
      "execution_count": 13,
      "outputs": [
        {
          "output_type": "display_data",
          "data": {
            "text/html": [
              "<style>\n",
              ".list-inline {list-style: none; margin:0; padding: 0}\n",
              ".list-inline>li {display: inline-block}\n",
              ".list-inline>li:not(:last-child)::after {content: \"\\00b7\"; padding: 0 .5ex}\n",
              "</style>\n",
              "<ol class=list-inline><li>'fixed.acidity'</li><li>'volatile.acidity'</li><li>'citric.acid'</li><li>'residual.sugar'</li><li>'chlorides'</li><li>'free.sulfur.dioxide'</li><li>'total.sulfur.dioxide'</li><li>'density'</li><li>'pH'</li><li>'sulphates'</li><li>'alcohol'</li><li>'quality'</li></ol>\n"
            ],
            "text/markdown": "1. 'fixed.acidity'\n2. 'volatile.acidity'\n3. 'citric.acid'\n4. 'residual.sugar'\n5. 'chlorides'\n6. 'free.sulfur.dioxide'\n7. 'total.sulfur.dioxide'\n8. 'density'\n9. 'pH'\n10. 'sulphates'\n11. 'alcohol'\n12. 'quality'\n\n\n",
            "text/latex": "\\begin{enumerate*}\n\\item 'fixed.acidity'\n\\item 'volatile.acidity'\n\\item 'citric.acid'\n\\item 'residual.sugar'\n\\item 'chlorides'\n\\item 'free.sulfur.dioxide'\n\\item 'total.sulfur.dioxide'\n\\item 'density'\n\\item 'pH'\n\\item 'sulphates'\n\\item 'alcohol'\n\\item 'quality'\n\\end{enumerate*}\n",
            "text/plain": [
              " [1] \"fixed.acidity\"        \"volatile.acidity\"     \"citric.acid\"         \n",
              " [4] \"residual.sugar\"       \"chlorides\"            \"free.sulfur.dioxide\" \n",
              " [7] \"total.sulfur.dioxide\" \"density\"              \"pH\"                  \n",
              "[10] \"sulphates\"            \"alcohol\"              \"quality\"             "
            ]
          },
          "metadata": {}
        }
      ]
    },
    {
      "cell_type": "code",
      "source": [
        "#ridge regression\n",
        "#null model containing only the intercept to the least squares fit\n",
        "grid <- 10^seq(10, -2, length = 100)\n",
        "ridge.mod <- glmnet(x, y, alpha = 0, lambda = grid)"
      ],
      "metadata": {
        "id": "nuflF4Pr2YQx"
      },
      "execution_count": 14,
      "outputs": []
    },
    {
      "cell_type": "code",
      "source": [
        "# Generating a vector associated value of λ of ridge regression coefficients\n",
        "dim(coef(ridge.mod))"
      ],
      "metadata": {
        "colab": {
          "base_uri": "https://localhost:8080/",
          "height": 34
        },
        "id": "VxxC_UFA2cDw",
        "outputId": "9ef50dd5-05d1-4778-e3b4-833dedb9144a"
      },
      "execution_count": 15,
      "outputs": [
        {
          "output_type": "display_data",
          "data": {
            "text/html": [
              "<style>\n",
              ".list-inline {list-style: none; margin:0; padding: 0}\n",
              ".list-inline>li {display: inline-block}\n",
              ".list-inline>li:not(:last-child)::after {content: \"\\00b7\"; padding: 0 .5ex}\n",
              "</style>\n",
              "<ol class=list-inline><li>12</li><li>100</li></ol>\n"
            ],
            "text/markdown": "1. 12\n2. 100\n\n\n",
            "text/latex": "\\begin{enumerate*}\n\\item 12\n\\item 100\n\\end{enumerate*}\n",
            "text/plain": [
              "[1]  12 100"
            ]
          },
          "metadata": {}
        }
      ]
    },
    {
      "cell_type": "code",
      "source": [
        "## extract the 50th value of the sequence of λ values from the fitted ridge model\n",
        "# along with their ℓ2norm\n",
        "ridge.mod$lambda[50]\n",
        "coef(ridge.mod)[, 50]\n",
        "sqrt(sum(coef(ridge.mod)[-1, 50]^2))"
      ],
      "metadata": {
        "colab": {
          "base_uri": "https://localhost:8080/",
          "height": 121
        },
        "id": "jxH8ItFY2gnz",
        "outputId": "e900d7ec-8f23-4e71-b810-608c90e1cfec"
      },
      "execution_count": 16,
      "outputs": [
        {
          "output_type": "display_data",
          "data": {
            "text/html": [
              "11497.5699539774"
            ],
            "text/markdown": "11497.5699539774",
            "text/latex": "11497.5699539774",
            "text/plain": [
              "[1] 11497.57"
            ]
          },
          "metadata": {}
        },
        {
          "output_type": "display_data",
          "data": {
            "text/html": [
              "<style>\n",
              ".dl-inline {width: auto; margin:0; padding: 0}\n",
              ".dl-inline>dt, .dl-inline>dd {float: none; width: auto; display: inline-block}\n",
              ".dl-inline>dt::after {content: \":\\0020\"; padding-right: .5ex}\n",
              ".dl-inline>dt:not(:first-of-type) {padding-left: .5ex}\n",
              "</style><dl class=dl-inline><dt>(Intercept)</dt><dd>5.64105640202259</dd><dt>fixed.acidity</dt><dd>4.0395048817454e-06</dd><dt>volatile.acidity</dt><dd>-0.000123666780724561</dd><dt>citric.acid</dt><dd>6.5882803986583e-05</dd><dt>residual.sugar</dt><dd>5.5228314287251e-07</dd><dt>chlorides</dt><dd>-0.000155296761321837</dd><dt>free.sulfur.dioxide</dt><dd>-2.74535688570791e-07</dd><dt>total.sulfur.dioxide</dt><dd>-3.19033520825195e-07</dd><dt>density</dt><dd>-0.00525501672005338</dd><dt>pH</dt><dd>-2.11985000280485e-05</dd><dt>sulphates</dt><dd>8.40893613540929e-05</dd><dt>alcohol</dt><dd>2.53342052119064e-05</dd></dl>\n"
            ],
            "text/markdown": "(Intercept)\n:   5.64105640202259fixed.acidity\n:   4.0395048817454e-06volatile.acidity\n:   -0.000123666780724561citric.acid\n:   6.5882803986583e-05residual.sugar\n:   5.5228314287251e-07chlorides\n:   -0.000155296761321837free.sulfur.dioxide\n:   -2.74535688570791e-07total.sulfur.dioxide\n:   -3.19033520825195e-07density\n:   -0.00525501672005338pH\n:   -2.11985000280485e-05sulphates\n:   8.40893613540929e-05alcohol\n:   2.53342052119064e-05\n\n",
            "text/latex": "\\begin{description*}\n\\item[(Intercept)] 5.64105640202259\n\\item[fixed.acidity] 4.0395048817454e-06\n\\item[volatile.acidity] -0.000123666780724561\n\\item[citric.acid] 6.5882803986583e-05\n\\item[residual.sugar] 5.5228314287251e-07\n\\item[chlorides] -0.000155296761321837\n\\item[free.sulfur.dioxide] -2.74535688570791e-07\n\\item[total.sulfur.dioxide] -3.19033520825195e-07\n\\item[density] -0.00525501672005338\n\\item[pH] -2.11985000280485e-05\n\\item[sulphates] 8.40893613540929e-05\n\\item[alcohol] 2.53342052119064e-05\n\\end{description*}\n",
            "text/plain": [
              "         (Intercept)        fixed.acidity     volatile.acidity \n",
              "        5.641056e+00         4.039505e-06        -1.236668e-04 \n",
              "         citric.acid       residual.sugar            chlorides \n",
              "        6.588280e-05         5.522831e-07        -1.552968e-04 \n",
              " free.sulfur.dioxide total.sulfur.dioxide              density \n",
              "       -2.745357e-07        -3.190335e-07        -5.255017e-03 \n",
              "                  pH            sulphates              alcohol \n",
              "       -2.119850e-05         8.408936e-05         2.533421e-05 "
            ]
          },
          "metadata": {}
        },
        {
          "output_type": "display_data",
          "data": {
            "text/html": [
              "0.00525995540356116"
            ],
            "text/markdown": "0.00525995540356116",
            "text/latex": "0.00525995540356116",
            "text/plain": [
              "[1] 0.005259955"
            ]
          },
          "metadata": {}
        }
      ]
    },
    {
      "cell_type": "code",
      "source": [
        "# # extract the 60th value of the sequence of λ values from the fitted ridge model\n",
        "# along with their ℓ2norm\n",
        "ridge.mod$lambda[60]\n",
        "coef(ridge.mod)[, 60]\n",
        "sqrt(sum(coef(ridge.mod)[-1, 60]^2))"
      ],
      "metadata": {
        "colab": {
          "base_uri": "https://localhost:8080/",
          "height": 121
        },
        "id": "sl603T5O2l0O",
        "outputId": "c1c11fe4-06c7-4d2a-b3b9-1dcff0c31e8c"
      },
      "execution_count": 17,
      "outputs": [
        {
          "output_type": "display_data",
          "data": {
            "text/html": [
              "705.480231071865"
            ],
            "text/markdown": "705.480231071865",
            "text/latex": "705.480231071865",
            "text/plain": [
              "[1] 705.4802"
            ]
          },
          "metadata": {}
        },
        {
          "output_type": "display_data",
          "data": {
            "text/html": [
              "<style>\n",
              ".dl-inline {width: auto; margin:0; padding: 0}\n",
              ".dl-inline>dt, .dl-inline>dd {float: none; width: auto; display: inline-block}\n",
              ".dl-inline>dt::after {content: \":\\0020\"; padding-right: .5ex}\n",
              ".dl-inline>dt:not(:first-of-type) {padding-left: .5ex}\n",
              "</style><dl class=dl-inline><dt>(Intercept)</dt><dd>5.71796778634284</dd><dt>fixed.acidity</dt><dd>6.56732246796041e-05</dd><dt>volatile.acidity</dt><dd>-0.0020117598711153</dd><dt>citric.acid</dt><dd>0.00107078347438399</dd><dt>residual.sugar</dt><dd>9.0067547024273e-06</dd><dt>chlorides</dt><dd>-0.00252831049409835</dd><dt>free.sulfur.dioxide</dt><dd>-4.45660400854328e-06</dd><dt>total.sulfur.dioxide</dt><dd>-5.18949897779695e-06</dd><dt>density</dt><dd>-0.0855454928284448</dd><dt>pH</dt><dd>-0.000344082203283222</dd><dt>sulphates</dt><dd>0.00136806594357466</dd><dt>alcohol</dt><dd>0.000412194970868833</dd></dl>\n"
            ],
            "text/markdown": "(Intercept)\n:   5.71796778634284fixed.acidity\n:   6.56732246796041e-05volatile.acidity\n:   -0.0020117598711153citric.acid\n:   0.00107078347438399residual.sugar\n:   9.0067547024273e-06chlorides\n:   -0.00252831049409835free.sulfur.dioxide\n:   -4.45660400854328e-06total.sulfur.dioxide\n:   -5.18949897779695e-06density\n:   -0.0855454928284448pH\n:   -0.000344082203283222sulphates\n:   0.00136806594357466alcohol\n:   0.000412194970868833\n\n",
            "text/latex": "\\begin{description*}\n\\item[(Intercept)] 5.71796778634284\n\\item[fixed.acidity] 6.56732246796041e-05\n\\item[volatile.acidity] -0.0020117598711153\n\\item[citric.acid] 0.00107078347438399\n\\item[residual.sugar] 9.0067547024273e-06\n\\item[chlorides] -0.00252831049409835\n\\item[free.sulfur.dioxide] -4.45660400854328e-06\n\\item[total.sulfur.dioxide] -5.18949897779695e-06\n\\item[density] -0.0855454928284448\n\\item[pH] -0.000344082203283222\n\\item[sulphates] 0.00136806594357466\n\\item[alcohol] 0.000412194970868833\n\\end{description*}\n",
            "text/plain": [
              "         (Intercept)        fixed.acidity     volatile.acidity \n",
              "        5.717968e+00         6.567322e-05        -2.011760e-03 \n",
              "         citric.acid       residual.sugar            chlorides \n",
              "        1.070783e-03         9.006755e-06        -2.528310e-03 \n",
              " free.sulfur.dioxide total.sulfur.dioxide              density \n",
              "       -4.456604e-06        -5.189499e-06        -8.554549e-02 \n",
              "                  pH            sulphates              alcohol \n",
              "       -3.440822e-04         1.368066e-03         4.121950e-04 "
            ]
          },
          "metadata": {}
        },
        {
          "output_type": "display_data",
          "data": {
            "text/html": [
              "0.0856258243453048"
            ],
            "text/markdown": "0.0856258243453048",
            "text/latex": "0.0856258243453048",
            "text/plain": [
              "[1] 0.08562582"
            ]
          },
          "metadata": {}
        }
      ]
    },
    {
      "cell_type": "code",
      "source": [
        "# obtaining upto the 50th, the ridge regression coefficients for a new value of λ,  \n",
        "predict(ridge.mod, s = 50, type = \"coefficients\")[1:12, ]"
      ],
      "metadata": {
        "colab": {
          "base_uri": "https://localhost:8080/",
          "height": 86
        },
        "id": "fuvN57d92qF4",
        "outputId": "0b818a0f-4b1a-4588-9280-b9ce04dbcc8b"
      },
      "execution_count": 18,
      "outputs": [
        {
          "output_type": "display_data",
          "data": {
            "text/html": [
              "<style>\n",
              ".dl-inline {width: auto; margin:0; padding: 0}\n",
              ".dl-inline>dt, .dl-inline>dd {float: none; width: auto; display: inline-block}\n",
              ".dl-inline>dt::after {content: \":\\0020\"; padding-right: .5ex}\n",
              ".dl-inline>dt:not(:first-of-type) {padding-left: .5ex}\n",
              "</style><dl class=dl-inline><dt>(Intercept)</dt><dd>6.79020594984074</dd><dt>fixed.acidity</dt><dd>0.000906574461520893</dd><dt>volatile.acidity</dt><dd>-0.0280964763305324</dd><dt>citric.acid</dt><dd>0.0147937305845136</dd><dt>residual.sugar</dt><dd>0.000134104824944865</dd><dt>chlorides</dt><dd>-0.035776327450214</dd><dt>free.sulfur.dioxide</dt><dd>-5.98644959919552e-05</dd><dt>total.sulfur.dioxide</dt><dd>-7.24896585008333e-05</dd><dt>density</dt><dd>-1.20515718071582</dd><dt>pH</dt><dd>-0.00468970544438</dd><dt>sulphates</dt><dd>0.0191852534855248</dd><dt>alcohol</dt><dd>0.00578919723691863</dd></dl>\n"
            ],
            "text/markdown": "(Intercept)\n:   6.79020594984074fixed.acidity\n:   0.000906574461520893volatile.acidity\n:   -0.0280964763305324citric.acid\n:   0.0147937305845136residual.sugar\n:   0.000134104824944865chlorides\n:   -0.035776327450214free.sulfur.dioxide\n:   -5.98644959919552e-05total.sulfur.dioxide\n:   -7.24896585008333e-05density\n:   -1.20515718071582pH\n:   -0.00468970544438sulphates\n:   0.0191852534855248alcohol\n:   0.00578919723691863\n\n",
            "text/latex": "\\begin{description*}\n\\item[(Intercept)] 6.79020594984074\n\\item[fixed.acidity] 0.000906574461520893\n\\item[volatile.acidity] -0.0280964763305324\n\\item[citric.acid] 0.0147937305845136\n\\item[residual.sugar] 0.000134104824944865\n\\item[chlorides] -0.035776327450214\n\\item[free.sulfur.dioxide] -5.98644959919552e-05\n\\item[total.sulfur.dioxide] -7.24896585008333e-05\n\\item[density] -1.20515718071582\n\\item[pH] -0.00468970544438\n\\item[sulphates] 0.0191852534855248\n\\item[alcohol] 0.00578919723691863\n\\end{description*}\n",
            "text/plain": [
              "         (Intercept)        fixed.acidity     volatile.acidity \n",
              "        6.790206e+00         9.065745e-04        -2.809648e-02 \n",
              "         citric.acid       residual.sugar            chlorides \n",
              "        1.479373e-02         1.341048e-04        -3.577633e-02 \n",
              " free.sulfur.dioxide total.sulfur.dioxide              density \n",
              "       -5.986450e-05        -7.248966e-05        -1.205157e+00 \n",
              "                  pH            sulphates              alcohol \n",
              "       -4.689705e-03         1.918525e-02         5.789197e-03 "
            ]
          },
          "metadata": {}
        }
      ]
    },
    {
      "cell_type": "code",
      "source": [
        "# Creating training and test data set\n",
        "set.seed(1)\n",
        "train <- sample(1:nrow(x), nrow(x) / 2)\n",
        "test <- (-train)\n",
        "y.test <- y[test]"
      ],
      "metadata": {
        "id": "MvOm91a42uDr"
      },
      "execution_count": 19,
      "outputs": []
    },
    {
      "cell_type": "code",
      "source": [
        "# fitting a ridge regression model on the training set, \n",
        "# evaluating its MSE on the test set, using λ = 4.\n",
        "ridge.mod <- glmnet(x[train, ], y[train], alpha = 0,\n",
        "                    lambda = grid, thresh = 1e-12)\n",
        "ridge.pred <- predict(ridge.mod, s = 4, newx = x[test, ])\n",
        "mean((ridge.pred - y.test)^2)"
      ],
      "metadata": {
        "colab": {
          "base_uri": "https://localhost:8080/",
          "height": 34
        },
        "id": "NRXOUvoe2yIe",
        "outputId": "91e651ff-ee53-48f9-f39f-26c98c4eeb94"
      },
      "execution_count": 20,
      "outputs": [
        {
          "output_type": "display_data",
          "data": {
            "text/html": [
              "0.547054862093763"
            ],
            "text/markdown": "0.547054862093763",
            "text/latex": "0.547054862093763",
            "text/plain": [
              "[1] 0.5470549"
            ]
          },
          "metadata": {}
        }
      ]
    },
    {
      "cell_type": "code",
      "source": [
        "# the MSE on the intercept\n",
        "mean((mean(y[train]) - y.test)^2)\n"
      ],
      "metadata": {
        "colab": {
          "base_uri": "https://localhost:8080/",
          "height": 34
        },
        "id": "R10931iD22g2",
        "outputId": "a407d4e7-89e8-4df4-c944-a04aeb583bf1"
      },
      "execution_count": 21,
      "outputs": [
        {
          "output_type": "display_data",
          "data": {
            "text/html": [
              "0.647963360803006"
            ],
            "text/markdown": "0.647963360803006",
            "text/latex": "0.647963360803006",
            "text/plain": [
              "[1] 0.6479634"
            ]
          },
          "metadata": {}
        }
      ]
    },
    {
      "cell_type": "code",
      "source": [
        "# fitting the ridge model on a large value,i.e, 1e10\n",
        "ridge.pred <- predict(ridge.mod, s = 1e10, newx = x[test, ])\n",
        "mean((ridge.pred - y.test)^2)"
      ],
      "metadata": {
        "colab": {
          "base_uri": "https://localhost:8080/",
          "height": 34
        },
        "id": "YDQr23lm26Lw",
        "outputId": "4c3cd69c-05dc-497d-beed-1669074cdd22"
      },
      "execution_count": 22,
      "outputs": [
        {
          "output_type": "display_data",
          "data": {
            "text/html": [
              "0.647963360740481"
            ],
            "text/markdown": "0.647963360740481",
            "text/latex": "0.647963360740481",
            "text/plain": [
              "[1] 0.6479634"
            ]
          },
          "metadata": {}
        }
      ]
    },
    {
      "cell_type": "code",
      "source": [
        "#linear model using least squares on the training set\n",
        "#least squares is simply ridge regression with λ = 0^8.\n",
        "ridge.pred <- predict(ridge.mod, s = 0, newx = x[test, ],\n",
        "                      exact = T, x = x[train, ], y = y[train])\n",
        "MSE.lm = mean((ridge.pred - y.test)^2)\n",
        "MSE.lm\n",
        "lm(y ~ x, subset = train)\n",
        "predict(ridge.mod, s = 0, exact = T, type = \"coefficients\",\n",
        "        x = x[train, ], y = y[train])[1:12, ]"
      ],
      "metadata": {
        "colab": {
          "base_uri": "https://localhost:8080/",
          "height": 336
        },
        "id": "c8aoERSD2-MK",
        "outputId": "02415a8d-f9d4-4e6f-d0cc-635ef556059a"
      },
      "execution_count": 23,
      "outputs": [
        {
          "output_type": "display_data",
          "data": {
            "text/html": [
              "0.417220236727008"
            ],
            "text/markdown": "0.417220236727008",
            "text/latex": "0.417220236727008",
            "text/plain": [
              "[1] 0.4172202"
            ]
          },
          "metadata": {}
        },
        {
          "output_type": "display_data",
          "data": {
            "text/plain": [
              "\n",
              "Call:\n",
              "lm(formula = y ~ x, subset = train)\n",
              "\n",
              "Coefficients:\n",
              "          (Intercept)         xfixed.acidity      xvolatile.acidity  \n",
              "            38.223749               0.038090              -1.156466  \n",
              "         xcitric.acid        xresidual.sugar             xchlorides  \n",
              "            -0.186289               0.026133              -0.619347  \n",
              " xfree.sulfur.dioxide  xtotal.sulfur.dioxide               xdensity  \n",
              "             0.004900              -0.003773             -34.706478  \n",
              "                  xpH             xsulphates               xalcohol  \n",
              "            -0.264661               0.860893               0.260805  \n"
            ]
          },
          "metadata": {}
        },
        {
          "output_type": "display_data",
          "data": {
            "text/html": [
              "<style>\n",
              ".dl-inline {width: auto; margin:0; padding: 0}\n",
              ".dl-inline>dt, .dl-inline>dd {float: none; width: auto; display: inline-block}\n",
              ".dl-inline>dt::after {content: \":\\0020\"; padding-right: .5ex}\n",
              ".dl-inline>dt:not(:first-of-type) {padding-left: .5ex}\n",
              "</style><dl class=dl-inline><dt>(Intercept)</dt><dd>38.2258139141239</dd><dt>fixed.acidity</dt><dd>0.03809261421328</dd><dt>volatile.acidity</dt><dd>-1.15646535115818</dd><dt>citric.acid</dt><dd>-0.186288036616922</dd><dt>residual.sugar</dt><dd>0.0261337041007052</dd><dt>chlorides</dt><dd>-0.619334715707058</dd><dt>free.sulfur.dioxide</dt><dd>0.00489989843875311</dd><dt>total.sulfur.dioxide</dt><dd>-0.00377289594646496</dd><dt>density</dt><dd>-34.7086186255507</dd><dt>pH</dt><dd>-0.26464277282853</dd><dt>sulphates</dt><dd>0.860895035543585</dd><dt>alcohol</dt><dd>0.26080265319048</dd></dl>\n"
            ],
            "text/markdown": "(Intercept)\n:   38.2258139141239fixed.acidity\n:   0.03809261421328volatile.acidity\n:   -1.15646535115818citric.acid\n:   -0.186288036616922residual.sugar\n:   0.0261337041007052chlorides\n:   -0.619334715707058free.sulfur.dioxide\n:   0.00489989843875311total.sulfur.dioxide\n:   -0.00377289594646496density\n:   -34.7086186255507pH\n:   -0.26464277282853sulphates\n:   0.860895035543585alcohol\n:   0.26080265319048\n\n",
            "text/latex": "\\begin{description*}\n\\item[(Intercept)] 38.2258139141239\n\\item[fixed.acidity] 0.03809261421328\n\\item[volatile.acidity] -1.15646535115818\n\\item[citric.acid] -0.186288036616922\n\\item[residual.sugar] 0.0261337041007052\n\\item[chlorides] -0.619334715707058\n\\item[free.sulfur.dioxide] 0.00489989843875311\n\\item[total.sulfur.dioxide] -0.00377289594646496\n\\item[density] -34.7086186255507\n\\item[pH] -0.26464277282853\n\\item[sulphates] 0.860895035543585\n\\item[alcohol] 0.26080265319048\n\\end{description*}\n",
            "text/plain": [
              "         (Intercept)        fixed.acidity     volatile.acidity \n",
              "        38.225813914          0.038092614         -1.156465351 \n",
              "         citric.acid       residual.sugar            chlorides \n",
              "        -0.186288037          0.026133704         -0.619334716 \n",
              " free.sulfur.dioxide total.sulfur.dioxide              density \n",
              "         0.004899898         -0.003772896        -34.708618626 \n",
              "                  pH            sulphates              alcohol \n",
              "        -0.264642773          0.860895036          0.260802653 "
            ]
          },
          "metadata": {}
        }
      ]
    },
    {
      "cell_type": "code",
      "source": [
        "#using the ten-fold cross-validation\n",
        "set.seed(1)\n",
        "cv.out <- cv.glmnet(x[train, ], y[train], alpha = 0)\n",
        "plot(cv.out)\n",
        "title(\"Ridge CVs\")\n",
        "bestlam <- cv.out$lambda.min\n",
        "bestlam #the value of λ that results in the smallest cross-validation error\n"
      ],
      "metadata": {
        "colab": {
          "base_uri": "https://localhost:8080/",
          "height": 454
        },
        "id": "kZQwAmdv3Cp7",
        "outputId": "d78b8c63-8925-40c0-a838-cd1025a98bc9"
      },
      "execution_count": 24,
      "outputs": [
        {
          "output_type": "display_data",
          "data": {
            "text/html": [
              "0.0547321602252703"
            ],
            "text/markdown": "0.0547321602252703",
            "text/latex": "0.0547321602252703",
            "text/plain": [
              "[1] 0.05473216"
            ]
          },
          "metadata": {}
        },
        {
          "output_type": "display_data",
          "data": {
            "text/plain": [
              "Plot with title “Ridge CVs”"
            ],
            "image/png": "[encoded data removed]"
          },
          "metadata": {
            "image/png": {
              "width": 420,
              "height": 420
            }
          }
        }
      ]
    },
    {
      "cell_type": "code",
      "source": [
        "ridge.pred <- predict(ridge.mod, s = bestlam,\n",
        "                      newx = x[test, ])\n",
        "MSE.ridge=mean((ridge.pred - y.test)^2)\n",
        "MSE.ridge"
      ],
      "metadata": {
        "colab": {
          "base_uri": "https://localhost:8080/",
          "height": 34
        },
        "id": "2kwhqoxS3HLb",
        "outputId": "20330067-8183-49ce-e3ed-65cb6f4b8715"
      },
      "execution_count": 25,
      "outputs": [
        {
          "output_type": "display_data",
          "data": {
            "text/html": [
              "0.417391640611963"
            ],
            "text/markdown": "0.417391640611963",
            "text/latex": "0.417391640611963",
            "text/plain": [
              "[1] 0.4173916"
            ]
          },
          "metadata": {}
        }
      ]
    },
    {
      "cell_type": "code",
      "source": [
        "# ridge regression model on the full data set with  λ chosen by cross-validation\n",
        "out <- glmnet(x, y, alpha = 0)\n",
        "predict(out, type = \"coefficients\", s = bestlam)[1:12, ]\n"
      ],
      "metadata": {
        "colab": {
          "base_uri": "https://localhost:8080/",
          "height": 86
        },
        "id": "dFyKJZqc3OFm",
        "outputId": "d20461cd-a8cb-49e7-b4ea-aab2b2cf2483"
      },
      "execution_count": 26,
      "outputs": [
        {
          "output_type": "display_data",
          "data": {
            "text/html": [
              "<style>\n",
              ".dl-inline {width: auto; margin:0; padding: 0}\n",
              ".dl-inline>dt, .dl-inline>dd {float: none; width: auto; display: inline-block}\n",
              ".dl-inline>dt::after {content: \":\\0020\"; padding-right: .5ex}\n",
              ".dl-inline>dt:not(:first-of-type) {padding-left: .5ex}\n",
              "</style><dl class=dl-inline><dt>(Intercept)</dt><dd>33.5485481063547</dd><dt>fixed.acidity</dt><dd>0.0308963601181108</dd><dt>volatile.acidity</dt><dd>-0.997672990251985</dd><dt>citric.acid</dt><dd>-0.0582954214765822</dd><dt>residual.sugar</dt><dd>0.0193429534640577</dd><dt>chlorides</dt><dd>-1.78985447663789</dd><dt>free.sulfur.dioxide</dt><dd>0.00351520199557297</dd><dt>total.sulfur.dioxide</dt><dd>-0.00302669106279909</dd><dt>density</dt><dd>-29.7390794956575</dd><dt>pH</dt><dd>-0.289369192504874</dd><dt>sulphates</dt><dd>0.875042469103628</dd><dt>alcohol</dt><dd>0.248456315065254</dd></dl>\n"
            ],
            "text/markdown": "(Intercept)\n:   33.5485481063547fixed.acidity\n:   0.0308963601181108volatile.acidity\n:   -0.997672990251985citric.acid\n:   -0.0582954214765822residual.sugar\n:   0.0193429534640577chlorides\n:   -1.78985447663789free.sulfur.dioxide\n:   0.00351520199557297total.sulfur.dioxide\n:   -0.00302669106279909density\n:   -29.7390794956575pH\n:   -0.289369192504874sulphates\n:   0.875042469103628alcohol\n:   0.248456315065254\n\n",
            "text/latex": "\\begin{description*}\n\\item[(Intercept)] 33.5485481063547\n\\item[fixed.acidity] 0.0308963601181108\n\\item[volatile.acidity] -0.997672990251985\n\\item[citric.acid] -0.0582954214765822\n\\item[residual.sugar] 0.0193429534640577\n\\item[chlorides] -1.78985447663789\n\\item[free.sulfur.dioxide] 0.00351520199557297\n\\item[total.sulfur.dioxide] -0.00302669106279909\n\\item[density] -29.7390794956575\n\\item[pH] -0.289369192504874\n\\item[sulphates] 0.875042469103628\n\\item[alcohol] 0.248456315065254\n\\end{description*}\n",
            "text/plain": [
              "         (Intercept)        fixed.acidity     volatile.acidity \n",
              "        33.548548106          0.030896360         -0.997672990 \n",
              "         citric.acid       residual.sugar            chlorides \n",
              "        -0.058295421          0.019342953         -1.789854477 \n",
              " free.sulfur.dioxide total.sulfur.dioxide              density \n",
              "         0.003515202         -0.003026691        -29.739079496 \n",
              "                  pH            sulphates              alcohol \n",
              "        -0.289369193          0.875042469          0.248456315 "
            ]
          },
          "metadata": {}
        }
      ]
    },
    {
      "cell_type": "code",
      "source": [
        "#lasso regression\n",
        "# fitting the lasso model on train data\n",
        "lasso.mod <- glmnet(x[train, ], y[train], alpha = 1,\n",
        "                    lambda = grid)\n",
        "# plotting out the model\n",
        "#plot(lasso.mod)"
      ],
      "metadata": {
        "id": "mU8UB0y13Rg9"
      },
      "execution_count": 27,
      "outputs": []
    },
    {
      "cell_type": "code",
      "source": [
        "# Performing cross-validation and compute the associated test error\n",
        "set.seed(1)\n",
        "cv.out <- cv.glmnet(x[train, ], y[train], alpha = 1)\n",
        "plot(cv.out)\n",
        "title(\"Lasso CVs\")\n",
        "bestlam <- cv.out$lambda.min\n",
        "bestlam\n",
        "lasso.pred <- predict(lasso.mod, s = bestlam,\n",
        "                      newx = x[test, ])\n",
        "MSE.lasso = mean((lasso.pred - y.test)^2)\n",
        "MSE.lasso"
      ],
      "metadata": {
        "colab": {
          "base_uri": "https://localhost:8080/",
          "height": 472
        },
        "id": "3rZW6dCT3VhY",
        "outputId": "e98d78e2-c6c5-495f-ecbb-1bd29ef5d887"
      },
      "execution_count": 28,
      "outputs": [
        {
          "output_type": "display_data",
          "data": {
            "text/html": [
              "0.0192175108578707"
            ],
            "text/markdown": "0.0192175108578707",
            "text/latex": "0.0192175108578707",
            "text/plain": [
              "[1] 0.01921751"
            ]
          },
          "metadata": {}
        },
        {
          "output_type": "display_data",
          "data": {
            "text/html": [
              "0.423468317458432"
            ],
            "text/markdown": "0.423468317458432",
            "text/latex": "0.423468317458432",
            "text/plain": [
              "[1] 0.4234683"
            ]
          },
          "metadata": {}
        },
        {
          "output_type": "display_data",
          "data": {
            "text/plain": [
              "Plot with title “Lasso CVs”"
            ],
            "image/png": "[encoded data removed]"
          },
          "metadata": {
            "image/png": {
              "width": 420,
              "height": 420
            }
          }
        }
      ]
    },
    {
      "cell_type": "code",
      "source": [
        "# lasso regression model on the full data set with  λ chosen by cross-validation\n",
        "out <- glmnet(x, y, alpha = 1, lambda = grid)\n",
        "lasso.coef <- predict(out, type = \"coefficients\",\n",
        "                      s = bestlam)[1:12, ]\n",
        "lasso.coef\n",
        "lasso.coef[lasso.coef != 0] # without zero's"
      ],
      "metadata": {
        "colab": {
          "base_uri": "https://localhost:8080/",
          "height": 104
        },
        "id": "ChrAyL2Y3Zau",
        "outputId": "fc06c711-7aa7-4741-9287-a96a9832ca7c"
      },
      "execution_count": 29,
      "outputs": [
        {
          "output_type": "display_data",
          "data": {
            "text/html": [
              "<style>\n",
              ".dl-inline {width: auto; margin:0; padding: 0}\n",
              ".dl-inline>dt, .dl-inline>dd {float: none; width: auto; display: inline-block}\n",
              ".dl-inline>dt::after {content: \":\\0020\"; padding-right: .5ex}\n",
              ".dl-inline>dt:not(:first-of-type) {padding-left: .5ex}\n",
              "</style><dl class=dl-inline><dt>(Intercept)</dt><dd>3.85188634847331</dd><dt>fixed.acidity</dt><dd>0.000165417052844454</dd><dt>volatile.acidity</dt><dd>-1.03383903576733</dd><dt>citric.acid</dt><dd>0</dd><dt>residual.sugar</dt><dd>0</dd><dt>chlorides</dt><dd>-1.31500922110384</dd><dt>free.sulfur.dioxide</dt><dd>0</dd><dt>total.sulfur.dioxide</dt><dd>-0.00181787039573482</dd><dt>density</dt><dd>0</dd><dt>pH</dt><dd>-0.265174745416155</dd><dt>sulphates</dt><dd>0.737273638957982</dd><dt>alcohol</dt><dd>0.280219291614105</dd></dl>\n"
            ],
            "text/markdown": "(Intercept)\n:   3.85188634847331fixed.acidity\n:   0.000165417052844454volatile.acidity\n:   -1.03383903576733citric.acid\n:   0residual.sugar\n:   0chlorides\n:   -1.31500922110384free.sulfur.dioxide\n:   0total.sulfur.dioxide\n:   -0.00181787039573482density\n:   0pH\n:   -0.265174745416155sulphates\n:   0.737273638957982alcohol\n:   0.280219291614105\n\n",
            "text/latex": "\\begin{description*}\n\\item[(Intercept)] 3.85188634847331\n\\item[fixed.acidity] 0.000165417052844454\n\\item[volatile.acidity] -1.03383903576733\n\\item[citric.acid] 0\n\\item[residual.sugar] 0\n\\item[chlorides] -1.31500922110384\n\\item[free.sulfur.dioxide] 0\n\\item[total.sulfur.dioxide] -0.00181787039573482\n\\item[density] 0\n\\item[pH] -0.265174745416155\n\\item[sulphates] 0.737273638957982\n\\item[alcohol] 0.280219291614105\n\\end{description*}\n",
            "text/plain": [
              "         (Intercept)        fixed.acidity     volatile.acidity \n",
              "        3.8518863485         0.0001654171        -1.0338390358 \n",
              "         citric.acid       residual.sugar            chlorides \n",
              "        0.0000000000         0.0000000000        -1.3150092211 \n",
              " free.sulfur.dioxide total.sulfur.dioxide              density \n",
              "        0.0000000000        -0.0018178704         0.0000000000 \n",
              "                  pH            sulphates              alcohol \n",
              "       -0.2651747454         0.7372736390         0.2802192916 "
            ]
          },
          "metadata": {}
        },
        {
          "output_type": "display_data",
          "data": {
            "text/html": [
              "<style>\n",
              ".dl-inline {width: auto; margin:0; padding: 0}\n",
              ".dl-inline>dt, .dl-inline>dd {float: none; width: auto; display: inline-block}\n",
              ".dl-inline>dt::after {content: \":\\0020\"; padding-right: .5ex}\n",
              ".dl-inline>dt:not(:first-of-type) {padding-left: .5ex}\n",
              "</style><dl class=dl-inline><dt>(Intercept)</dt><dd>3.85188634847331</dd><dt>fixed.acidity</dt><dd>0.000165417052844454</dd><dt>volatile.acidity</dt><dd>-1.03383903576733</dd><dt>chlorides</dt><dd>-1.31500922110384</dd><dt>total.sulfur.dioxide</dt><dd>-0.00181787039573482</dd><dt>pH</dt><dd>-0.265174745416155</dd><dt>sulphates</dt><dd>0.737273638957982</dd><dt>alcohol</dt><dd>0.280219291614105</dd></dl>\n"
            ],
            "text/markdown": "(Intercept)\n:   3.85188634847331fixed.acidity\n:   0.000165417052844454volatile.acidity\n:   -1.03383903576733chlorides\n:   -1.31500922110384total.sulfur.dioxide\n:   -0.00181787039573482pH\n:   -0.265174745416155sulphates\n:   0.737273638957982alcohol\n:   0.280219291614105\n\n",
            "text/latex": "\\begin{description*}\n\\item[(Intercept)] 3.85188634847331\n\\item[fixed.acidity] 0.000165417052844454\n\\item[volatile.acidity] -1.03383903576733\n\\item[chlorides] -1.31500922110384\n\\item[total.sulfur.dioxide] -0.00181787039573482\n\\item[pH] -0.265174745416155\n\\item[sulphates] 0.737273638957982\n\\item[alcohol] 0.280219291614105\n\\end{description*}\n",
            "text/plain": [
              "         (Intercept)        fixed.acidity     volatile.acidity \n",
              "        3.8518863485         0.0001654171        -1.0338390358 \n",
              "           chlorides total.sulfur.dioxide                   pH \n",
              "       -1.3150092211        -0.0018178704        -0.2651747454 \n",
              "           sulphates              alcohol \n",
              "        0.7372736390         0.2802192916 "
            ]
          },
          "metadata": {}
        }
      ]
    },
    {
      "cell_type": "code",
      "source": [
        "### Saving all results in a data frame\n",
        "MSE.all = data.frame(cbind(MSE.lm, MSE.ridge, MSE.lasso), row.names = \"MSE\")\n",
        "colnames(MSE.all) = c(\"lm\", \"ridge\", \"lasso\")\n",
        "MSE.all"
      ],
      "metadata": {
        "colab": {
          "base_uri": "https://localhost:8080/",
          "height": 129
        },
        "id": "wSpIwObT3dPH",
        "outputId": "b10f8b6b-9b4b-48d4-b77d-ce50e8dd22b7"
      },
      "execution_count": 30,
      "outputs": [
        {
          "output_type": "display_data",
          "data": {
            "text/html": [
              "<table class=\"dataframe\">\n",
              "<caption>A data.frame: 1 × 3</caption>\n",
              "<thead>\n",
              "\t<tr><th></th><th scope=col>lm</th><th scope=col>ridge</th><th scope=col>lasso</th></tr>\n",
              "\t<tr><th></th><th scope=col>&lt;dbl&gt;</th><th scope=col>&lt;dbl&gt;</th><th scope=col>&lt;dbl&gt;</th></tr>\n",
              "</thead>\n",
              "<tbody>\n",
              "\t<tr><th scope=row>MSE</th><td>0.4172202</td><td>0.4173916</td><td>0.4234683</td></tr>\n",
              "</tbody>\n",
              "</table>\n"
            ],
            "text/markdown": "\nA data.frame: 1 × 3\n\n| <!--/--> | lm &lt;dbl&gt; | ridge &lt;dbl&gt; | lasso &lt;dbl&gt; |\n|---|---|---|---|\n| MSE | 0.4172202 | 0.4173916 | 0.4234683 |\n\n",
            "text/latex": "A data.frame: 1 × 3\n\\begin{tabular}{r|lll}\n  & lm & ridge & lasso\\\\\n  & <dbl> & <dbl> & <dbl>\\\\\n\\hline\n\tMSE & 0.4172202 & 0.4173916 & 0.4234683\\\\\n\\end{tabular}\n",
            "text/plain": [
              "    lm        ridge     lasso    \n",
              "MSE 0.4172202 0.4173916 0.4234683"
            ]
          },
          "metadata": {}
        }
      ]
    }
  ]
}